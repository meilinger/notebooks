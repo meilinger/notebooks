{
 "cells": [
  {
   "cell_type": "code",
   "execution_count": 17,
   "metadata": {
    "collapsed": true
   },
   "outputs": [],
   "source": [
    "# Using Python 2.7 kernel w/ only system libraries\n",
    "\n",
    "from xml.etree import ElementTree as et\n",
    "\n",
    "blob = \"\"\"<?xml version=\"1.0\" ?>\n",
    "<p:Purchase xmlns:xsi=\"http://www.w3.org/2001/XMLSchema-instance\"\n",
    "        xsi:schemaLocation=\"http://NamespaceTest.com/Purchase Main.xsd\"\n",
    "        xmlns:p=\"http://NamespaceTest.com/Purchase\"\n",
    "        xmlns:o=\"http://NamespaceTest.com/OrderTypes\"\n",
    "        xmlns:c=\"http://NamespaceTest.com/CustomerTypes\"\n",
    "        xmlns:cmn=\"http://NamespaceTest.com/CommonTypes\">\n",
    "    <p:OrderDetail>\n",
    "        <o:Item>\n",
    "            <o:ProductName>Widget</o:ProductName>\n",
    "            <o:Quantity>1</o:Quantity>\n",
    "            <o:UnitPrice>3.42</o:UnitPrice>\n",
    "        </o:Item>\n",
    "    </p:OrderDetail>\n",
    "    <p:PaymentMethod>VISA</p:PaymentMethod>\n",
    "    <p:CustomerDetails>\n",
    "        <c:Name>James</c:Name>\n",
    "        <c:DeliveryAddress>\n",
    "            <cmn:Line1>15 Some Road</cmn:Line1>\n",
    "            <cmn:Line2>SomeSmallTown</cmn:Line2>\n",
    "        </c:DeliveryAddress>\n",
    "        <c:BillingAddress>\n",
    "            <cmn:Line1>16 Some Road</cmn:Line1>\n",
    "            <cmn:Line2>SomeBigTown</cmn:Line2>\n",
    "        </c:BillingAddress>\n",
    "    </p:CustomerDetails>\n",
    "</p:Purchase>\"\"\"\n",
    "xml = et.fromstring(blob)"
   ]
  },
  {
   "cell_type": "code",
   "execution_count": 26,
   "metadata": {
    "collapsed": false
   },
   "outputs": [
    {
     "data": {
      "text/plain": [
       "[(<Element '{http://NamespaceTest.com/CommonTypes}Line1' at 0x7f15ec130150>,\n",
       "  '15 Some Road'),\n",
       " (<Element '{http://NamespaceTest.com/CommonTypes}Line1' at 0x7f15ec130210>,\n",
       "  '16 Some Road')]"
      ]
     },
     "execution_count": 26,
     "metadata": {},
     "output_type": "execute_result"
    }
   ],
   "source": [
    "ns = {'cmn': 'http://NamespaceTest.com/CommonTypes'}\n",
    "[(x, x.text) for x in xml.findall('*//cmn:Line1', ns)]"
   ]
  },
  {
   "cell_type": "code",
   "execution_count": 24,
   "metadata": {
    "collapsed": false
   },
   "outputs": [
    {
     "data": {
      "text/plain": [
       "[<Element '{http://NamespaceTest.com/Purchase}Purchase' at 0x7f15ec190c10>,\n",
       " <Element '{http://NamespaceTest.com/Purchase}OrderDetail' at 0x7f15ec190850>,\n",
       " <Element '{http://NamespaceTest.com/OrderTypes}Item' at 0x7f15ec190d10>,\n",
       " <Element '{http://NamespaceTest.com/OrderTypes}ProductName' at 0x7f15ec190fd0>,\n",
       " <Element '{http://NamespaceTest.com/OrderTypes}Quantity' at 0x7f15ec190f90>,\n",
       " <Element '{http://NamespaceTest.com/OrderTypes}UnitPrice' at 0x7f15ec1909d0>,\n",
       " <Element '{http://NamespaceTest.com/Purchase}PaymentMethod' at 0x7f15ec130050>,\n",
       " <Element '{http://NamespaceTest.com/Purchase}CustomerDetails' at 0x7f15ec130090>,\n",
       " <Element '{http://NamespaceTest.com/CustomerTypes}Name' at 0x7f15ec1300d0>,\n",
       " <Element '{http://NamespaceTest.com/CustomerTypes}DeliveryAddress' at 0x7f15ec130110>,\n",
       " <Element '{http://NamespaceTest.com/CommonTypes}Line1' at 0x7f15ec130150>,\n",
       " <Element '{http://NamespaceTest.com/CommonTypes}Line2' at 0x7f15ec130190>,\n",
       " <Element '{http://NamespaceTest.com/CustomerTypes}BillingAddress' at 0x7f15ec1301d0>,\n",
       " <Element '{http://NamespaceTest.com/CommonTypes}Line1' at 0x7f15ec130210>,\n",
       " <Element '{http://NamespaceTest.com/CommonTypes}Line2' at 0x7f15ec130250>]"
      ]
     },
     "execution_count": 24,
     "metadata": {},
     "output_type": "execute_result"
    }
   ],
   "source": [
    "# Invalid function signature match (this is basically a dumb iteration over all elements)\n",
    "#list(xml.iter('cmn:Line1', ns))  \n",
    "\n",
    "[x for x in xml.iter()]"
   ]
  },
  {
   "cell_type": "code",
   "execution_count": 25,
   "metadata": {
    "collapsed": false
   },
   "outputs": [
    {
     "data": {
      "text/plain": [
       "[(<Element '{http://NamespaceTest.com/CommonTypes}Line1' at 0x7f15ec130150>,\n",
       "  '15 Some Road'),\n",
       " (<Element '{http://NamespaceTest.com/CommonTypes}Line1' at 0x7f15ec130210>,\n",
       "  '16 Some Road')]"
      ]
     },
     "execution_count": 25,
     "metadata": {},
     "output_type": "execute_result"
    }
   ],
   "source": [
    "items = list(xml.iterfind('*//cmn:Line1', ns))  # Doesn't break and takes xpath expression\n",
    "[(x, x.text) for x in items]"
   ]
  }
 ],
 "metadata": {
  "kernelspec": {
   "display_name": "Python 2",
   "language": "python",
   "name": "python2"
  },
  "language_info": {
   "codemirror_mode": {
    "name": "ipython",
    "version": 2
   },
   "file_extension": ".py",
   "mimetype": "text/x-python",
   "name": "python",
   "nbconvert_exporter": "python",
   "pygments_lexer": "ipython2",
   "version": "2.7.12"
  }
 },
 "nbformat": 4,
 "nbformat_minor": 1
}
